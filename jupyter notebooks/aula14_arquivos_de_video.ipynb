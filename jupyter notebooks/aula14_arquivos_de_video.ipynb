{
 "cells": [
  {
   "cell_type": "markdown",
   "id": "e77bb069-44aa-4c5d-a74c-e840a3897a04",
   "metadata": {},
   "source": [
    "# O que são arquivos de vídeo?\n",
    "\n",
    "Arquivos de vídeo, na realidade, combinam áudio e vídeo em um único formato comprimido."
   ]
  },
  {
   "cell_type": "markdown",
   "id": "83b3b147-8ad5-40ad-9bec-24ddf6e1e82f",
   "metadata": {},
   "source": [
    "Quando temos diversas imagens passando rapidamente pelos nossos olhos, temos a impressão de movimento:\n",
    "\n",
    "![](./resources/horse.jpg)\n",
    "\n",
    "Se unirmos isso a uma trilha sonora, temos um vídeo!"
   ]
  },
  {
   "cell_type": "markdown",
   "id": "78af39d7-d86a-4788-a093-970b96022570",
   "metadata": {},
   "source": [
    "## Taxa de quadros (frame rate)\n",
    "\n",
    "Para uma impressão fluida de movimento, diversas imagens precisam ser reproduzidas a cada segundo.\n",
    "\n",
    "O número de imagens a cada segundo determina a **taxa de quadros**, também conhecida por *frame rate* ou FPS (*frames per second*).\n",
    "\n",
    "![](./resources/fps.png)\n",
    "\n",
    "Quanto maior o FPS, maior a \"fluidez\" do vídeo, mas também maior a quantidade de informação armazenada e processada.\n",
    "\n",
    "No cinema, o padrão é 24 FPS.\n",
    "\n",
    "Na televisão, esse valor pode ser de 30 FPS, 50 FPS, ou até mesmo 60 FPS (algumas TVs mais modernas inclusive fazem o \"preenchimento\" de frames, por isso os filmes podem parecer mais \"fluídos\" do que deveriam)."
   ]
  },
  {
   "cell_type": "markdown",
   "id": "71afa03d-6f91-41d0-9ff7-9c245890395a",
   "metadata": {},
   "source": [
    "## Compressão e formatos\n",
    "\n",
    "Se cada imagem do vídeo for gravada de forma independente, seria necessário um grande volume para armazenar e processar cada imagem. No lugar disso, arquivos de vídeo em geral armazenam apenas a **diferença** entre frames, o que reduz bastante a sobrecarga no processamento:\n",
    "\n",
    "![](./resources/codecs.png)\n",
    "\n",
    "Um algoritmo capaz de fazer esse processamento (também para a trilha sonora) é chamado de **codec** (encoder-decoder). Para criarmos um vídeo em determinado formato, e também para conseguir rodá-lo depois, é preciso ter o codec específico instalado.\n",
    "\n",
    "![](./resources/av.png)\n",
    "\n",
    "Com os codecs, os vídeos se tornam arquivos muito mais leves que as suas imagens individuais!"
   ]
  },
  {
   "cell_type": "markdown",
   "id": "b390771f-5b1c-4fb5-95ab-4074e502d434",
   "metadata": {},
   "source": [
    "## Trabalhando com arquivos de vídeo\n",
    "\n",
    "Vamos acessar um arquivo de vídeo da internet, baixá-lo e extrair seus frames para uma pasta:\n",
    "\n",
    "https://videos.pexels.com/video-files/15921892/15921892-uhd_3840_2160_50fps.mp4"
   ]
  },
  {
   "cell_type": "code",
   "execution_count": 3,
   "id": "c3fa66f5-de6e-459b-8bd0-da8100c93964",
   "metadata": {},
   "outputs": [],
   "source": [
    "from pathlib import Path\n",
    "\n",
    "caminho = Path('videos')\n",
    "caminho.mkdir(parents=True, exist_ok=True)"
   ]
  },
  {
   "cell_type": "code",
   "execution_count": 4,
   "id": "c061f696-4ef7-4cf5-b6a9-78b992797d71",
   "metadata": {},
   "outputs": [
    {
     "name": "stdout",
     "output_type": "stream",
     "text": [
      "................................................\n",
      "Finalizado!\n"
     ]
    }
   ],
   "source": [
    "import requests\n",
    "\n",
    "url = \"https://videos.pexels.com/video-files/15921892/15921892-uhd_3840_2160_50fps.mp4\"\n",
    "video_data = requests.get(url, stream=True)\n",
    "\n",
    "caminho_video = caminho / 'video.mp4'\n",
    "with open(caminho_video, 'wb') as f:\n",
    "    for chunk in video_data.iter_content(chunk_size=1024**2):\n",
    "        f.write(chunk)\n",
    "        print('.', end='')\n",
    "\n",
    "print('\\nFinalizado!')"
   ]
  },
  {
   "cell_type": "markdown",
   "id": "7939f849-0a4d-4f4a-9829-242e9cf13b3d",
   "metadata": {},
   "source": [
    "Agora vamos usar a biblioteca OpenCV para extrair os frames individuais desse vídeo:"
   ]
  },
  {
   "cell_type": "code",
   "execution_count": 5,
   "id": "80b6ce03-8798-44e1-a47a-7a2156098df8",
   "metadata": {},
   "outputs": [],
   "source": [
    "caminho_frames = caminho / 'frames'\n",
    "caminho_frames.mkdir(parents=True, exist_ok=True)"
   ]
  },
  {
   "cell_type": "code",
   "execution_count": 6,
   "id": "3f047ce5-f9d2-49af-9ffd-54990d0b4c76",
   "metadata": {},
   "outputs": [
    {
     "name": "stdout",
     "output_type": "stream",
     "text": [
      "............................................."
     ]
    },
    {
     "ename": "KeyboardInterrupt",
     "evalue": "",
     "output_type": "error",
     "traceback": [
      "\u001b[0;31m---------------------------------------------------------------------------\u001b[0m",
      "\u001b[0;31mKeyboardInterrupt\u001b[0m                         Traceback (most recent call last)",
      "Cell \u001b[0;32mIn[6], line 9\u001b[0m\n\u001b[1;32m      7\u001b[0m \u001b[38;5;28;01mwhile\u001b[39;00m sucesso:\n\u001b[1;32m      8\u001b[0m     nome_frame \u001b[38;5;241m=\u001b[39m \u001b[38;5;124mf\u001b[39m\u001b[38;5;124m\"\u001b[39m\u001b[38;5;124mframe\u001b[39m\u001b[38;5;132;01m{\u001b[39;00mcount\u001b[38;5;132;01m:\u001b[39;00m\u001b[38;5;124m03d\u001b[39m\u001b[38;5;132;01m}\u001b[39;00m\u001b[38;5;124m.jpg\u001b[39m\u001b[38;5;124m\"\u001b[39m\n\u001b[0;32m----> 9\u001b[0m     \u001b[43mcv2\u001b[49m\u001b[38;5;241;43m.\u001b[39;49m\u001b[43mimwrite\u001b[49m\u001b[43m(\u001b[49m\u001b[38;5;28;43mstr\u001b[39;49m\u001b[43m(\u001b[49m\u001b[43mcaminho_frames\u001b[49m\u001b[43m \u001b[49m\u001b[38;5;241;43m/\u001b[39;49m\u001b[43m \u001b[49m\u001b[43mnome_frame\u001b[49m\u001b[43m)\u001b[49m\u001b[43m,\u001b[49m\u001b[43m \u001b[49m\u001b[43mframe\u001b[49m\u001b[43m)\u001b[49m\n\u001b[1;32m     10\u001b[0m     \u001b[38;5;28mprint\u001b[39m(\u001b[38;5;124m'\u001b[39m\u001b[38;5;124m.\u001b[39m\u001b[38;5;124m'\u001b[39m, end\u001b[38;5;241m=\u001b[39m\u001b[38;5;124m'\u001b[39m\u001b[38;5;124m'\u001b[39m)\n\u001b[1;32m     11\u001b[0m     sucesso, frame \u001b[38;5;241m=\u001b[39m captura\u001b[38;5;241m.\u001b[39mread()\n",
      "\u001b[0;31mKeyboardInterrupt\u001b[0m: "
     ]
    }
   ],
   "source": [
    "import cv2\n",
    "\n",
    "captura = cv2.VideoCapture(str(caminho_video))\n",
    "sucesso, frame = captura.read()\n",
    "count = 0\n",
    "\n",
    "while sucesso:\n",
    "    nome_frame = f\"frame{count:03d}.jpg\"\n",
    "    cv2.imwrite(str(caminho_frames / nome_frame), frame)\n",
    "    print('.', end='')\n",
    "    sucesso, frame = captura.read()\n",
    "    count += 1\n",
    "\n",
    "print('\\nFinalizado!')"
   ]
  },
  {
   "cell_type": "markdown",
   "id": "8bcfca4a-a2b5-4c68-9505-e8a6b5613d43",
   "metadata": {},
   "source": [
    "## O que isso significa para IAs?\n",
    "\n",
    "Existem IAs que operam sobre um vídeo inteiro. Mas mesmo quando não temos uma disponível, podemos usar as IAs de imagem e passar frames individuais para serem processados!\n",
    "\n",
    "Como vimos, os frames mudam muito pouco. Portanto podemos usar uma lógica para extrair um frame a cada N frames, ou então a cada X segundos: "
   ]
  },
  {
   "cell_type": "code",
   "execution_count": 8,
   "id": "4bac28bb-dd1e-46a6-adf4-fa18a8610ee1",
   "metadata": {},
   "outputs": [
    {
     "data": {
      "text/plain": [
       "50"
      ]
     },
     "execution_count": 8,
     "metadata": {},
     "output_type": "execute_result"
    }
   ],
   "source": [
    "captura = cv2.VideoCapture(str(caminho_video))\n",
    "sucesso, frame = captura.read()\n",
    "fps = int(captura.get(cv2.CAP_PROP_FPS))\n",
    "fps"
   ]
  },
  {
   "cell_type": "code",
   "execution_count": 9,
   "id": "024100d0-8aad-49d5-a1c6-eaaac1064c50",
   "metadata": {},
   "outputs": [
    {
     "name": "stdout",
     "output_type": "stream",
     "text": [
      "................\n",
      "Finalizado!\n"
     ]
    }
   ],
   "source": [
    "count = 0\n",
    "while sucesso:\n",
    "    if count % fps == 0:\n",
    "        nome_frame = f\"frame{count:03d}.jpg\"\n",
    "        cv2.imwrite(str(caminho_frames / nome_frame), frame)\n",
    "        print('.', end='')\n",
    "    sucesso, frame = captura.read()\n",
    "    count += 1\n",
    "\n",
    "print('\\nFinalizado!')"
   ]
  },
  {
   "cell_type": "code",
   "execution_count": null,
   "id": "4ede798e-125d-4e51-b98d-ec869999a095",
   "metadata": {},
   "outputs": [],
   "source": []
  }
 ],
 "metadata": {
  "kernelspec": {
   "display_name": "Python 3 (ipykernel)",
   "language": "python",
   "name": "python3"
  },
  "language_info": {
   "codemirror_mode": {
    "name": "ipython",
    "version": 3
   },
   "file_extension": ".py",
   "mimetype": "text/x-python",
   "name": "python",
   "nbconvert_exporter": "python",
   "pygments_lexer": "ipython3",
   "version": "3.11.6"
  }
 },
 "nbformat": 4,
 "nbformat_minor": 5
}
