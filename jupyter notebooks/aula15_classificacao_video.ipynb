{
 "cells": [
  {
   "cell_type": "markdown",
   "id": "fffb3af8-b56b-4035-8e62-20b3b9560573",
   "metadata": {},
   "source": [
    "# Classificação de vídeo\n",
    "\n",
    "Para esta tarefa, precisamos da biblioteca `decord`:\n",
    "\n",
    "```bash\n",
    "pip install decord\n",
    "```"
   ]
  },
  {
   "cell_type": "markdown",
   "id": "aa4943f4-63e7-48f8-a67b-76bc290e39a4",
   "metadata": {},
   "source": [
    "Vamos usar um modelo de classificação de vídeo: https://huggingface.co/facebook/timesformer-base-finetuned-k600"
   ]
  },
  {
   "cell_type": "code",
   "execution_count": 1,
   "id": "ad6e226c-15f7-4e97-b687-56a9c4bd1a5b",
   "metadata": {},
   "outputs": [],
   "source": [
    "from transformers import pipeline\n",
    "\n",
    "modelo = \"facebook/timesformer-base-finetuned-k600\"\n",
    "classificador_video = pipeline(\"video-classification\", model=modelo)"
   ]
  },
  {
   "cell_type": "markdown",
   "id": "8672ebdb-61fc-4260-8250-bae96d0b78d3",
   "metadata": {},
   "source": [
    "Este modelo foi treinado em um dataset de gestos/ações de humanos: https://paperswithcode.com/dataset/kinetics-600\n",
    "\n",
    "Este dataset não estão disponíveis no Hugging Face. Portanto, vamos pegar outros dados do repositório abaixo e \"pular\" elementos até encontrar algum com a categoria \"People\"."
   ]
  },
  {
   "cell_type": "code",
   "execution_count": 4,
   "id": "72c58d65-13e8-44ac-a59b-6a9373bd6454",
   "metadata": {},
   "outputs": [
    {
     "data": {
      "application/vnd.jupyter.widget-view+json": {
       "model_id": "d60e27ef54944a068296904529867c33",
       "version_major": 2,
       "version_minor": 0
      },
      "text/plain": [
       "Resolving data files:   0%|          | 0/34 [00:00<?, ?it/s]"
      ]
     },
     "metadata": {},
     "output_type": "display_data"
    }
   ],
   "source": [
    "from datasets import load_dataset\n",
    "\n",
    "dados = load_dataset(\"shinonomelab/cleanvid-15m_map\", streaming=True, split=\"train\")"
   ]
  },
  {
   "cell_type": "code",
   "execution_count": 14,
   "id": "bb0eec33-b708-40fd-a232-b01b0cdba113",
   "metadata": {},
   "outputs": [
    {
     "name": "stdout",
     "output_type": "stream",
     "text": [
      "{'id': 1095327279, 'description': \"Close-up of a male welder in protective clothing welding metal in a blacksmith's workshop. The process of making a metal fence in a forge.\", 'duration': 7.96, 'aspectratio': '16:9', 'videourl': 'https://www.shutterstock.com/shutterstock/videos/1095327279/preview/stock-footage-close-up-of-a-male-welder-in-protective-clothing-welding-metal-in-a-blacksmith-s-workshop-the.mp4', 'author': '{\"accountsId\": 162697858, \"contributorId\": 162697858, \"bio\": \"\\\\u0421\\\\u0432\\\\u0430\\\\u0434\\\\u0435\\\\u0431\\\\u043d\\\\u044b\\\\u0439 \\\\u0438 \\\\u0441\\\\u0435\\\\u043c\\\\u0435\\\\u0439\\\\u043d\\\\u044b\\\\u0439 \\\\u0432\\\\u0438\\\\u0434\\\\u0435\\\\u043e\\\\u0433\\\\u0440\\\\u0430\\\\u0444. \\\\u0417\\\\u0430\\\\u043d\\\\u0438\\\\u043c\\\\u0430\\\\u044e\\\\u0441\\\\u044c \\\\u0432\\\\u0438\\\\u0434\\\\u0435\\\\u043e\\\\u0441\\\\u044a\\\\u0435\\\\u043c\\\\u043a\\\\u043e\\\\u0439 \\\\u0441 2007 \\\\u0433\\\\u043e\\\\u0434\\\\u0430.\", \"location\": \"ua\", \"website\": \"-\", \"contributorTypeList\": [\"videographer\"], \"equipmentList\": [\"Canon 6D\", \"Canon 50 mm 1.4\", \"Canon 85 mm 1.8\", \"Canon 24-105 mm 4.0\", \"Sigma 15-30 mm 3.5-5.6\"], \"styleList\": [\"footage_food\", \"footage_macro\", \"footage_model\"], \"subjectMatterList\": [\"business\", \"holiday\", \"medical\", \"people\", \"wedding\"], \"facebookUsername\": \"profile.php?id=100001876422303\", \"googlePlusUsername\": \"-\", \"linkedinUsername\": \"-\", \"pinterestUsername\": \"-\", \"tumblrUsername\": \"-\", \"twitterUsername\": \"-\", \"storageKey\": \"contributors/162697858/avatars/original.jpg\", \"cdnThumbPath\": \"/contributors/162697858/avatars/thumb.jpg\", \"displayName\": \"Ievgen Tytarenko\", \"vanityUrlUsername\": \"Eugene TITARENKO\", \"portfolioUrlSuffix\": \"Eugene+TITARENKO\", \"portfolioUrl\": \"https://www.shutterstock.com/g/Eugene+TITARENKO\", \"hasPublicSets\": false, \"facebookUrl\": \"https://www.facebook.com/profile.php%3Fid%3D100001876422303\", \"linkedinUrl\": \"https://www.linkedin.com/in/-\", \"pinterestUrl\": \"https://pinterest.com/-\", \"twitterUrl\": \"https://twitter.com/-\"}', 'categories': '[\"Industrial\", \"People\"]', 'framerate': 25.0, 'r18': 0}\n",
      "-----\n",
      "{'id': 1079808617, 'description': 'Portrait shot of caucasian woman wearing protective mask standing outdoor in forest, looking at the camera and smiling. Eco environmental concept. Diverse multicultural team cleaning nature concept', 'duration': 9.92, 'aspectratio': '16:9', 'videourl': 'https://www.shutterstock.com/shutterstock/videos/1079808617/preview/stock-footage-portrait-shot-of-caucasian-woman-wearing-protective-mask-standing-outdoor-in-forest-looking-at-the.mp4', 'author': '{\"accountsId\": 141465620, \"contributorId\": 3303725, \"bio\": \"Everyone has a story to tell.\", \"location\": \"ua\", \"website\": \"vimeo.com/user47046906\", \"contributorTypeList\": [\"photographer\", \"videographer\"], \"equipmentList\": [\"Red\", \"Canon\", \"Blackmagic\"], \"styleList\": [\"nature\", \"portrait\", \"footage_model\"], \"subjectMatterList\": [\"architectural\", \"business\", \"fashion\", \"industrial\", \"people\"], \"facebookUsername\": \"ihor.vesna\", \"storageKey\": \"contributors/3303725/avatars/original.jpg?t=1550316601048\", \"cdnThumbPath\": \"/contributors/3303725/avatars/thumb.jpg\", \"displayName\": \"VesnaArt\", \"vanityUrlUsername\": \"Vesna Art\", \"portfolioUrlSuffix\": \"Vesna+Art\", \"portfolioUrl\": \"https://www.shutterstock.com/g/Vesna+Art\", \"instagramUsername\": \"vesnaart_stock\", \"hasPublicSets\": true, \"instagramUrl\": \"https://www.instagram.com/vesnaart_stock\", \"facebookUrl\": \"https://www.facebook.com/ihor.vesna\"}', 'categories': '[\"Nature\", \"People\"]', 'framerate': 25.0, 'r18': 0}\n",
      "-----\n",
      "{'id': 23897377, 'description': 'Dehydrated coconut flakes on a wood background.', 'duration': 11.0, 'aspectratio': '16:9', 'videourl': 'https://www.shutterstock.com/shutterstock/videos/23897377/preview/stock-footage-dehydrated-coconut-flakes-on-a-wood-background.mp4', 'author': '{\"accountsId\": 102382309, \"contributorId\": 1059122, \"bio\": \"Food photographer and videographer.\\\\r\\\\narinaphotography-com\", \"location\": \"us\", \"website\": \"www.arinaphotography.com\", \"contributorTypeList\": [\"photographer\", \"videographer\"], \"equipmentList\": [\"\"], \"styleList\": [\"aerial\", \"food\", \"lifestyle\"], \"subjectMatterList\": [\"food_and_drink\"], \"facebookUsername\": \"arinaphotography\", \"googlePlusUsername\": \"107465890598208601959\", \"linkedinUsername\": \"arinahabich\", \"twitterUsername\": \"arinaphoto\", \"storageKey\": \"/contributors/1059122/avatars/thumb.jpg\", \"cdnThumbPath\": \"/contributors/1059122/avatars/thumb.jpg\", \"displayName\": \"Arina P Habich\", \"vanityUrlUsername\": \"arinaphabich\", \"portfolioUrlSuffix\": \"arinaphabich\", \"portfolioUrl\": \"https://www.shutterstock.com/g/arinaphabich\", \"hasPublicSets\": false, \"facebookUrl\": \"https://www.facebook.com/arinaphotography\", \"linkedinUrl\": \"https://www.linkedin.com/in/arinahabich/\", \"twitterUrl\": \"https://twitter.com/arinaphoto\"}', 'categories': '[\"Food and Drink\"]', 'framerate': 29.97, 'r18': 0}\n",
      "-----\n",
      "{'id': 26082050, 'description': 'Marsh frog ( Pelophylax ridibundus ) tadpoles in pond water in spring', 'duration': 11.0, 'aspectratio': '16:9', 'videourl': 'https://www.shutterstock.com/shutterstock/videos/26082050/preview/stock-footage-marsh-frog-pelophylax-ridibundus-tadpoles-in-pond-water-in-spring.mp4', 'author': '{\"accountsId\": 112992253, \"contributorId\": 1120541, \"bio\": \"Wildlife Photography and Videography\", \"location\": \"gb\", \"website\": \"www.stephanmorris.com\", \"contributorTypeList\": [\"photographer\", \"videographer\"], \"equipmentList\": [\"Olympus OMD EM1 mk2\", \"Olympus OMD EM1 Mk3\", \"Olympus OMD EM1X\"], \"styleList\": [\"macro\", \"nature\"], \"subjectMatterList\": [\"animals\", \"nature\", \"wildlife\"], \"storageKey\": \"contributors/1120541/avatars/original.jpg\", \"cdnThumbPath\": \"/contributors/1120541/avatars/thumb.jpg\", \"displayName\": \"Stephan Morris\", \"vanityUrlUsername\": \"StephanMorris\", \"portfolioUrlSuffix\": \"StephanMorris\", \"portfolioUrl\": \"https://www.shutterstock.com/g/StephanMorris\", \"hasPublicSets\": true}', 'categories': '[\"Animals/Wildlife\"]', 'framerate': 25.0, 'r18': 0}\n",
      "-----\n",
      "{'id': 23790220, 'description': 'Thai dog', 'duration': 7.0, 'aspectratio': '16:9', 'videourl': 'https://www.shutterstock.com/shutterstock/videos/23790220/preview/stock-footage-thai-dog.mp4', 'author': '{\"accountsId\": 125557604, \"contributorId\": 2341514, \"location\": \"th\", \"contributorTypeList\": [\"photographer\", \"illustrator\"], \"equipmentList\": [], \"styleList\": [], \"subjectMatterList\": [], \"googlePlusUsername\": \"+PONGSAKON\", \"displayName\": \"Aofza photoracing\", \"vanityUrlUsername\": \"pongsakon muikrathok\", \"portfolioUrlSuffix\": \"pongsakon+muikrathok\", \"portfolioUrl\": \"https://www.shutterstock.com/g/pongsakon+muikrathok\", \"hasPublicSets\": false}', 'categories': '[\"Animals/Wildlife\", \"Nature\"]', 'framerate': 29.97, 'r18': 0}\n",
      "-----\n"
     ]
    }
   ],
   "source": [
    "for linha in dados.take(5):\n",
    "    print(linha)\n",
    "    print('-----')"
   ]
  },
  {
   "cell_type": "code",
   "execution_count": 13,
   "id": "26174467-d976-4ada-8bcf-112c838cc113",
   "metadata": {},
   "outputs": [
    {
     "name": "stdout",
     "output_type": "stream",
     "text": [
      "Vídeo: https://www.shutterstock.com/shutterstock/videos/1095327279/preview/stock-footage-close-up-of-a-male-welder-in-protective-clothing-welding-metal-in-a-blacksmith-s-workshop-the.mp4\n",
      "Predições:\n",
      "{'score': 0.8637503981590271, 'label': 'welding'}\n",
      "{'score': 0.06536668539047241, 'label': 'using circular saw'}\n",
      "{'score': 0.01985437236726284, 'label': 'making horseshoes'}\n",
      "{'score': 0.015573861077427864, 'label': 'using a power drill'}\n",
      "{'score': 0.009469565935432911, 'label': 'bending metal'}\n",
      "-----\n",
      "Vídeo: https://www.shutterstock.com/shutterstock/videos/1079808617/preview/stock-footage-portrait-shot-of-caucasian-woman-wearing-protective-mask-standing-outdoor-in-forest-looking-at-the.mp4\n",
      "Predições:\n",
      "{'score': 0.3770016133785248, 'label': 'archery'}\n",
      "{'score': 0.13445688784122467, 'label': 'huddling'}\n",
      "{'score': 0.10778089612722397, 'label': 'stretching arm'}\n",
      "{'score': 0.036543261259794235, 'label': 'planting trees'}\n",
      "{'score': 0.031791817396879196, 'label': 'throwing axe'}\n",
      "-----\n",
      "Vídeo: https://www.shutterstock.com/shutterstock/videos/1040624594/preview/stock-footage-aerial-shot-of-woman-standing-on-the-edge-of-cliff-at-sunset.mp4\n",
      "Predições:\n",
      "{'score': 0.17002734541893005, 'label': 'yoga'}\n",
      "{'score': 0.16001269221305847, 'label': 'walking the dog'}\n",
      "{'score': 0.14072853326797485, 'label': 'tai chi'}\n",
      "{'score': 0.12479128688573837, 'label': 'playing bagpipes'}\n",
      "{'score': 0.06078936532139778, 'label': 'spinning poi'}\n",
      "-----\n",
      "Vídeo: https://www.shutterstock.com/shutterstock/videos/1052324629/preview/stock-footage-seriously-working-young-student-or-employee-on-laptop-at-home-concept-of-work-from-home-or-wfh-e.mp4\n",
      "Predições:\n",
      "{'score': 0.3224186897277832, 'label': 'winking'}\n",
      "{'score': 0.1262500137090683, 'label': 'staring'}\n",
      "{'score': 0.08972201496362686, 'label': 'raising eyebrows'}\n",
      "{'score': 0.06758102029561996, 'label': 'texting'}\n",
      "{'score': 0.03803408518433571, 'label': 'yawning'}\n",
      "-----\n",
      "Vídeo: https://www.shutterstock.com/shutterstock/videos/16253272/preview/stock-footage-opening-of-fizzy-drink-can.mp4\n",
      "Predições:\n",
      "{'score': 0.357286661863327, 'label': 'fidgeting'}\n",
      "{'score': 0.35663849115371704, 'label': 'lock picking'}\n",
      "{'score': 0.054330382496118546, 'label': 'drumming fingers'}\n",
      "{'score': 0.04406854882836342, 'label': 'using remote controller (not gaming)'}\n",
      "{'score': 0.02493392303586006, 'label': 'sharpening pencil'}\n",
      "-----\n",
      "Vídeo: https://www.shutterstock.com/shutterstock/videos/1013788502/preview/stock-footage-portrait-of-content-shy-woman-wearing-basic-t-shirt-nodding-and-accept-proposal-with-smile.mp4\n",
      "Predições:\n",
      "{'score': 0.09054528176784515, 'label': 'answering questions'}\n",
      "{'score': 0.07707233726978302, 'label': 'stretching arm'}\n",
      "{'score': 0.06294868141412735, 'label': 'applying cream'}\n",
      "{'score': 0.05099478363990784, 'label': 'carrying baby'}\n",
      "{'score': 0.046816177666187286, 'label': 'putting on sari'}\n",
      "-----\n",
      "Vídeo: https://www.shutterstock.com/shutterstock/videos/5834954/preview/stock-footage-djoum-cameroon-october-pygmy-tribe-in-africa-working-harvesting-cocoa.mp4\n",
      "Predições:\n",
      "{'score': 0.6906616687774658, 'label': 'bee keeping'}\n",
      "{'score': 0.04335957020521164, 'label': 'archery'}\n",
      "{'score': 0.04098611697554588, 'label': 'playing didgeridoo'}\n",
      "{'score': 0.0313270166516304, 'label': 'weaving basket'}\n",
      "{'score': 0.02790679596364498, 'label': 'playing paintball'}\n",
      "-----\n",
      "Vídeo: https://www.shutterstock.com/shutterstock/videos/1018748074/preview/stock-footage-a-man-stands-on-a-high-point-in-the-mountains-and-admires-a-beautiful-view-there-are-peaks-around.mp4\n",
      "Predições:\n",
      "{'score': 0.9502130150794983, 'label': 'ice climbing'}\n",
      "{'score': 0.010091050527989864, 'label': 'carving ice'}\n",
      "{'score': 0.004303102381527424, 'label': 'abseiling'}\n",
      "{'score': 0.0031876247376203537, 'label': 'shoveling snow'}\n",
      "{'score': 0.002539115259423852, 'label': 'slacklining'}\n",
      "-----\n",
      "Vídeo: https://www.shutterstock.com/shutterstock/videos/1044619273/preview/stock-footage-michigan-usa-celebrating-boy-s-birthday-with-beautiful-cake-and-beautifully-decorated-with.mp4\n",
      "Predições:\n",
      "{'score': 0.1978330761194229, 'label': 'doing nails'}\n",
      "{'score': 0.13390575349330902, 'label': 'drumming fingers'}\n",
      "{'score': 0.07804923504590988, 'label': 'pinching'}\n",
      "{'score': 0.03867597505450249, 'label': 'shaking hands'}\n",
      "{'score': 0.03190264478325844, 'label': 'wrapping present'}\n",
      "-----\n",
      "Vídeo: https://www.shutterstock.com/shutterstock/videos/1086415745/preview/stock-footage-surprised-man-clutching-his-head.mp4\n",
      "Predições:\n",
      "{'score': 0.49204111099243164, 'label': 'applauding'}\n",
      "{'score': 0.21041016280651093, 'label': 'yawning'}\n",
      "{'score': 0.046853579580783844, 'label': 'clapping'}\n",
      "{'score': 0.04204171523451805, 'label': 'answering questions'}\n",
      "{'score': 0.03166138380765915, 'label': 'waving hand'}\n",
      "-----\n"
     ]
    }
   ],
   "source": [
    "import requests\n",
    "\n",
    "amostras = 0\n",
    "\n",
    "for linha in dados:\n",
    "    categorias = linha['categories']\n",
    "    if \"People\" not in categorias:\n",
    "        continue\n",
    "    url = linha[\"videourl\"]\n",
    "    predicao = classificador_video(url)\n",
    "    print(f\"Vídeo: {url}\\nPredições:\")\n",
    "    for p in predicao:\n",
    "        print(p)\n",
    "    print('-----')\n",
    "    amostras += 1\n",
    "    if amostras == 10:\n",
    "        break"
   ]
  },
  {
   "cell_type": "code",
   "execution_count": null,
   "id": "a2a3a027-524b-4636-b563-fb74815ad400",
   "metadata": {},
   "outputs": [],
   "source": []
  }
 ],
 "metadata": {
  "kernelspec": {
   "display_name": "Python 3 (ipykernel)",
   "language": "python",
   "name": "python3"
  },
  "language_info": {
   "codemirror_mode": {
    "name": "ipython",
    "version": 3
   },
   "file_extension": ".py",
   "mimetype": "text/x-python",
   "name": "python",
   "nbconvert_exporter": "python",
   "pygments_lexer": "ipython3",
   "version": "3.11.6"
  }
 },
 "nbformat": 4,
 "nbformat_minor": 5
}
