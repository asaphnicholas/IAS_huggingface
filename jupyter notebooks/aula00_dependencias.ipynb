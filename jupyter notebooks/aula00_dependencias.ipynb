{
 "cells": [
  {
   "cell_type": "markdown",
   "id": "ae71e5a864973b45",
   "metadata": {},
   "source": [
    "**Antes de começar: dependências**\n",
    "\n",
    "As aulas deste curso possuem as seguintes dependências:\n",
    "\n",
    "```bash\n",
    "# Bibliotecas do Hugging Face\n",
    "pip install datasets\n",
    "pip install transformers\n",
    "\n",
    "# Permite usar Jupyter + IPython\n",
    "pip install jupyter\n",
    "\n",
    "# Visualizar e manipular dados\n",
    "pip install numpy matplotlib\n",
    "\n",
    "# Carregar modelos treinados + suporte a CUDA (Linux)\n",
    "pip install torch torchvision torchaudio\n",
    "# Carregar modelos treinados + suporte a CUDA (Windows)\n",
    "pip install torch torchvision torchaudio --index-url https://download.pytorch.org/whl/cu118\n",
    "\n",
    "# Trabalhar com arquivos de áudio\n",
    "pip install librosa soundfile\n",
    "\n",
    "# Pode ser necessário em alguns setups\n",
    "pip install --upgrade setuptools\n",
    "```"
   ]
  },
  {
   "cell_type": "code",
   "execution_count": null,
   "id": "3581e9e1-1fbc-4906-98e6-a3aa4804b5de",
   "metadata": {},
   "outputs": [],
   "source": []
  }
 ],
 "metadata": {
  "kernelspec": {
   "display_name": "Python 3 (ipykernel)",
   "language": "python",
   "name": "python3"
  },
  "language_info": {
   "codemirror_mode": {
    "name": "ipython",
    "version": 3
   },
   "file_extension": ".py",
   "mimetype": "text/x-python",
   "name": "python",
   "nbconvert_exporter": "python",
   "pygments_lexer": "ipython3",
   "version": "3.11.4"
  }
 },
 "nbformat": 4,
 "nbformat_minor": 5
}
